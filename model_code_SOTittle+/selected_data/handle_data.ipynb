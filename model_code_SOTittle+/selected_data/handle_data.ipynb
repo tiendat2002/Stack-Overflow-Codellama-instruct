{
 "cells": [
  {
   "cell_type": "code",
   "execution_count": 1,
   "id": "initial_id",
   "metadata": {
    "collapsed": true,
    "ExecuteTime": {
     "end_time": "2024-06-19T06:31:44.749509Z",
     "start_time": "2024-06-19T06:31:40.861373Z"
    }
   },
   "outputs": [],
   "source": [
    "import pandas as pd\n",
    "\n",
    "df= pd.read_json('./data_classify.json')"
   ]
  },
  {
   "cell_type": "code",
   "outputs": [
    {
     "data": {
      "text/plain": "        type                                              title  \\\n0          0       creating a dart list from a javascript array   \n1          0  unassigned local variable and short-circuit ev...   \n2          0  smtp settings in appsettings.json in dotnet co...   \n3          1  selectively delete mostly duplicate records fr...   \n4          1  position element relative to another element n...   \n...      ...                                                ...   \n221370     0  faster way to swap endianness in c# with 16 bi...   \n221371     0  keyerror caused by a wrong attribute assignmen...   \n221372     1  ip address of the machine in php gives ::1 but...   \n221373     1  unexpected end of input error in line 1 of jav...   \n221374     0                      c#7 out variables with tuples   \n\n                                                     code  \\\n0       final List<maps.DirectionsStep> steps = List.f...   \n1       public int A() { int i; if(!int.TryParse(\"0\", ...   \n2       using (var smtp = new SmtpClient()) { await sm...   \n3       PRICE_UPDATE id (int 5, auto-increment, primar...   \n4       <div class=\"want-to-be-parent\"> <div class=\"cu...   \n...                                                   ...   \n221370  public static void Swap(byte[] data) { for (in...   \n221371  Source Target Label_Source Label_Target E N 0....   \n221372    <?php echo \"<br />\".$_SERVER['REMOTE_ADDR'];?>    \n221373  var firstTimeExecuting = true; //should execut...   \n221374  private readonly Dictionary<int, (bool, DateTi...   \n\n                                           tags  \\\n0                               javascript dart   \n1                                            c#   \n2                          c# asp.net .net-core   \n3                                 php mysql sql   \n4       javascript html jquery css css-position   \n...                                         ...   \n221370                            c# endianness   \n221371                   python pandas networkx   \n221372                           php ip-address   \n221373  javascript input google-chrome-devtools   \n221374                                c# c#-7.0   \n\n                                                     desc  \\\n0       I am trying to learn clientside Dart coming fr...   \n1       I have two methods both of them compiles corre...   \n2       In Aspnet I can normally send emails using the...   \n3       I have a table Some of the partnumbers are dup...   \n4       Is it possible to make a positioned element re...   \n...                                                   ...   \n221370  Theres got to be a faster and better way to sw...   \n221371  I have a dataset not well formatted as it has ...   \n221372  I am trying to fetch the ip address of my mach...   \n221373  Chrome Dev Tools throws the following JavaScri...   \n221374  Is it possible to use the C7 feature of out va...   \n\n                                            predict_title  \n0       converting an array from an existing javascrip...  \n1       how to detect if an unassigned local variable ...  \n2                  how to use smtpclient in asp.net core?  \n3       how to delete all of the duplicate records in ...  \n4       how to make an element relative to another ele...  \n...                                                   ...  \n221370  is there a better way to swap bytes of 16bit w...  \n221371  networkx: keyerror: \"label_source\" is not a at...  \n221372  how to get the ip address of my machine throug...  \n221373  uncaught syntaxerror: unexpected end of input ...  \n221374  what is the correct syntax for out(out(bool, d...  \n\n[221375 rows x 6 columns]",
      "text/html": "<div>\n<style scoped>\n    .dataframe tbody tr th:only-of-type {\n        vertical-align: middle;\n    }\n\n    .dataframe tbody tr th {\n        vertical-align: top;\n    }\n\n    .dataframe thead th {\n        text-align: right;\n    }\n</style>\n<table border=\"1\" class=\"dataframe\">\n  <thead>\n    <tr style=\"text-align: right;\">\n      <th></th>\n      <th>type</th>\n      <th>title</th>\n      <th>code</th>\n      <th>tags</th>\n      <th>desc</th>\n      <th>predict_title</th>\n    </tr>\n  </thead>\n  <tbody>\n    <tr>\n      <th>0</th>\n      <td>0</td>\n      <td>creating a dart list from a javascript array</td>\n      <td>final List&lt;maps.DirectionsStep&gt; steps = List.f...</td>\n      <td>javascript dart</td>\n      <td>I am trying to learn clientside Dart coming fr...</td>\n      <td>converting an array from an existing javascrip...</td>\n    </tr>\n    <tr>\n      <th>1</th>\n      <td>0</td>\n      <td>unassigned local variable and short-circuit ev...</td>\n      <td>public int A() { int i; if(!int.TryParse(\"0\", ...</td>\n      <td>c#</td>\n      <td>I have two methods both of them compiles corre...</td>\n      <td>how to detect if an unassigned local variable ...</td>\n    </tr>\n    <tr>\n      <th>2</th>\n      <td>0</td>\n      <td>smtp settings in appsettings.json in dotnet co...</td>\n      <td>using (var smtp = new SmtpClient()) { await sm...</td>\n      <td>c# asp.net .net-core</td>\n      <td>In Aspnet I can normally send emails using the...</td>\n      <td>how to use smtpclient in asp.net core?</td>\n    </tr>\n    <tr>\n      <th>3</th>\n      <td>1</td>\n      <td>selectively delete mostly duplicate records fr...</td>\n      <td>PRICE_UPDATE id (int 5, auto-increment, primar...</td>\n      <td>php mysql sql</td>\n      <td>I have a table Some of the partnumbers are dup...</td>\n      <td>how to delete all of the duplicate records in ...</td>\n    </tr>\n    <tr>\n      <th>4</th>\n      <td>1</td>\n      <td>position element relative to another element n...</td>\n      <td>&lt;div class=\"want-to-be-parent\"&gt; &lt;div class=\"cu...</td>\n      <td>javascript html jquery css css-position</td>\n      <td>Is it possible to make a positioned element re...</td>\n      <td>how to make an element relative to another ele...</td>\n    </tr>\n    <tr>\n      <th>...</th>\n      <td>...</td>\n      <td>...</td>\n      <td>...</td>\n      <td>...</td>\n      <td>...</td>\n      <td>...</td>\n    </tr>\n    <tr>\n      <th>221370</th>\n      <td>0</td>\n      <td>faster way to swap endianness in c# with 16 bi...</td>\n      <td>public static void Swap(byte[] data) { for (in...</td>\n      <td>c# endianness</td>\n      <td>Theres got to be a faster and better way to sw...</td>\n      <td>is there a better way to swap bytes of 16bit w...</td>\n    </tr>\n    <tr>\n      <th>221371</th>\n      <td>0</td>\n      <td>keyerror caused by a wrong attribute assignmen...</td>\n      <td>Source Target Label_Source Label_Target E N 0....</td>\n      <td>python pandas networkx</td>\n      <td>I have a dataset not well formatted as it has ...</td>\n      <td>networkx: keyerror: \"label_source\" is not a at...</td>\n    </tr>\n    <tr>\n      <th>221372</th>\n      <td>1</td>\n      <td>ip address of the machine in php gives ::1 but...</td>\n      <td>&lt;?php echo \"&lt;br /&gt;\".$_SERVER['REMOTE_ADDR'];?&gt;</td>\n      <td>php ip-address</td>\n      <td>I am trying to fetch the ip address of my mach...</td>\n      <td>how to get the ip address of my machine throug...</td>\n    </tr>\n    <tr>\n      <th>221373</th>\n      <td>1</td>\n      <td>unexpected end of input error in line 1 of jav...</td>\n      <td>var firstTimeExecuting = true; //should execut...</td>\n      <td>javascript input google-chrome-devtools</td>\n      <td>Chrome Dev Tools throws the following JavaScri...</td>\n      <td>uncaught syntaxerror: unexpected end of input ...</td>\n    </tr>\n    <tr>\n      <th>221374</th>\n      <td>0</td>\n      <td>c#7 out variables with tuples</td>\n      <td>private readonly Dictionary&lt;int, (bool, DateTi...</td>\n      <td>c# c#-7.0</td>\n      <td>Is it possible to use the C7 feature of out va...</td>\n      <td>what is the correct syntax for out(out(bool, d...</td>\n    </tr>\n  </tbody>\n</table>\n<p>221375 rows × 6 columns</p>\n</div>"
     },
     "execution_count": 2,
     "metadata": {},
     "output_type": "execute_result"
    }
   ],
   "source": [
    "df"
   ],
   "metadata": {
    "collapsed": false,
    "ExecuteTime": {
     "end_time": "2024-06-19T06:31:44.769199Z",
     "start_time": "2024-06-19T06:31:44.750515Z"
    }
   },
   "id": "24e941dd96aa259a",
   "execution_count": 2
  },
  {
   "cell_type": "code",
   "outputs": [
    {
     "data": {
      "text/plain": "                                                    title  \\\n3       selectively delete mostly duplicate records fr...   \n4       position element relative to another element n...   \n7                    asp.net mvc - html.beginform and ssl   \n9         how to change pixel color of an image in c#.net   \n10      why node.js requires an upgrade while trying t...   \n...                                                   ...   \n221367       php5.6 are arrays allowed in class constants   \n221368           remove focus from a content editable div   \n221369  how can i show selected image by imgareaselect...   \n221372  ip address of the machine in php gives ::1 but...   \n221373  unexpected end of input error in line 1 of jav...   \n\n                                                     code  \\\n3       PRICE_UPDATE id (int 5, auto-increment, primar...   \n4       <div class=\"want-to-be-parent\"> <div class=\"cu...   \n7       using (Html.BeginForm(\"LogOn\", \"Account\", new ...   \n9        Bitmap newBitmap = new Bitmap(scrBitmap.Width...   \n10       var WebSocketServer = require('ws').Server, w...   \n...                                                   ...   \n221367         Arrays are not allowed in class constants    \n221368  $(\"#myContentEditable\").focus(); $(\"#myContent...   \n221369   <!DOCTYPE html> <html> <head> <link rel=\"styl...   \n221372    <?php echo \"<br />\".$_SERVER['REMOTE_ADDR'];?>    \n221373  var firstTimeExecuting = true; //should execut...   \n\n                                           tags  \\\n3                                 php mysql sql   \n4       javascript html jquery css css-position   \n7                            c# asp.net-mvc ssl   \n9            c# .net drawing pixels bitmapimage   \n10       javascript node.js websocket real-time   \n...                                         ...   \n221367       php arrays class constants php-5.6   \n221368                   javascript jquery html   \n221369               javascript jquery html css   \n221372                           php ip-address   \n221373  javascript input google-chrome-devtools   \n\n                                                     desc  \\\n3       I have a table Some of the partnumbers are dup...   \n4       Is it possible to make a positioned element re...   \n7       I am encountering an issue with what should be...   \n9       I am working with Images in Java I have design...   \n10      When I try to run my nodejs application on a l...   \n...                                                   ...   \n221367  So we can define array constants in PHP56 Howe...   \n221368  If I programatically remove the focus of a con...   \n221369  this is my code for ImgAreaSelect this code i ...   \n221372  I am trying to fetch the ip address of my mach...   \n221373  Chrome Dev Tools throws the following JavaScri...   \n\n                                            predict_title  \n3       how to delete all of the duplicate records in ...  \n4       how to make an element relative to another ele...  \n7                      how to use https in asp.net mvc 2?  \n9        how to change the color of a bitmap image in c#?  \n10      how to run a node.js application on a localhos...  \n...                                                   ...  \n221367  php 5.6: array constants are not allowed in cl...  \n221368   how to remove focus from a content editable div?  \n221369  how to select an image in an image area using ...  \n221372  how to get the ip address of my machine throug...  \n221373  uncaught syntaxerror: unexpected end of input ...  \n\n[93688 rows x 5 columns]",
      "text/html": "<div>\n<style scoped>\n    .dataframe tbody tr th:only-of-type {\n        vertical-align: middle;\n    }\n\n    .dataframe tbody tr th {\n        vertical-align: top;\n    }\n\n    .dataframe thead th {\n        text-align: right;\n    }\n</style>\n<table border=\"1\" class=\"dataframe\">\n  <thead>\n    <tr style=\"text-align: right;\">\n      <th></th>\n      <th>title</th>\n      <th>code</th>\n      <th>tags</th>\n      <th>desc</th>\n      <th>predict_title</th>\n    </tr>\n  </thead>\n  <tbody>\n    <tr>\n      <th>3</th>\n      <td>selectively delete mostly duplicate records fr...</td>\n      <td>PRICE_UPDATE id (int 5, auto-increment, primar...</td>\n      <td>php mysql sql</td>\n      <td>I have a table Some of the partnumbers are dup...</td>\n      <td>how to delete all of the duplicate records in ...</td>\n    </tr>\n    <tr>\n      <th>4</th>\n      <td>position element relative to another element n...</td>\n      <td>&lt;div class=\"want-to-be-parent\"&gt; &lt;div class=\"cu...</td>\n      <td>javascript html jquery css css-position</td>\n      <td>Is it possible to make a positioned element re...</td>\n      <td>how to make an element relative to another ele...</td>\n    </tr>\n    <tr>\n      <th>7</th>\n      <td>asp.net mvc - html.beginform and ssl</td>\n      <td>using (Html.BeginForm(\"LogOn\", \"Account\", new ...</td>\n      <td>c# asp.net-mvc ssl</td>\n      <td>I am encountering an issue with what should be...</td>\n      <td>how to use https in asp.net mvc 2?</td>\n    </tr>\n    <tr>\n      <th>9</th>\n      <td>how to change pixel color of an image in c#.net</td>\n      <td>Bitmap newBitmap = new Bitmap(scrBitmap.Width...</td>\n      <td>c# .net drawing pixels bitmapimage</td>\n      <td>I am working with Images in Java I have design...</td>\n      <td>how to change the color of a bitmap image in c#?</td>\n    </tr>\n    <tr>\n      <th>10</th>\n      <td>why node.js requires an upgrade while trying t...</td>\n      <td>var WebSocketServer = require('ws').Server, w...</td>\n      <td>javascript node.js websocket real-time</td>\n      <td>When I try to run my nodejs application on a l...</td>\n      <td>how to run a node.js application on a localhos...</td>\n    </tr>\n    <tr>\n      <th>...</th>\n      <td>...</td>\n      <td>...</td>\n      <td>...</td>\n      <td>...</td>\n      <td>...</td>\n    </tr>\n    <tr>\n      <th>221367</th>\n      <td>php5.6 are arrays allowed in class constants</td>\n      <td>Arrays are not allowed in class constants</td>\n      <td>php arrays class constants php-5.6</td>\n      <td>So we can define array constants in PHP56 Howe...</td>\n      <td>php 5.6: array constants are not allowed in cl...</td>\n    </tr>\n    <tr>\n      <th>221368</th>\n      <td>remove focus from a content editable div</td>\n      <td>$(\"#myContentEditable\").focus(); $(\"#myContent...</td>\n      <td>javascript jquery html</td>\n      <td>If I programatically remove the focus of a con...</td>\n      <td>how to remove focus from a content editable div?</td>\n    </tr>\n    <tr>\n      <th>221369</th>\n      <td>how can i show selected image by imgareaselect...</td>\n      <td>&lt;!DOCTYPE html&gt; &lt;html&gt; &lt;head&gt; &lt;link rel=\"styl...</td>\n      <td>javascript jquery html css</td>\n      <td>this is my code for ImgAreaSelect this code i ...</td>\n      <td>how to select an image in an image area using ...</td>\n    </tr>\n    <tr>\n      <th>221372</th>\n      <td>ip address of the machine in php gives ::1 but...</td>\n      <td>&lt;?php echo \"&lt;br /&gt;\".$_SERVER['REMOTE_ADDR'];?&gt;</td>\n      <td>php ip-address</td>\n      <td>I am trying to fetch the ip address of my mach...</td>\n      <td>how to get the ip address of my machine throug...</td>\n    </tr>\n    <tr>\n      <th>221373</th>\n      <td>unexpected end of input error in line 1 of jav...</td>\n      <td>var firstTimeExecuting = true; //should execut...</td>\n      <td>javascript input google-chrome-devtools</td>\n      <td>Chrome Dev Tools throws the following JavaScri...</td>\n      <td>uncaught syntaxerror: unexpected end of input ...</td>\n    </tr>\n  </tbody>\n</table>\n<p>93688 rows × 5 columns</p>\n</div>"
     },
     "execution_count": 4,
     "metadata": {},
     "output_type": "execute_result"
    }
   ],
   "source": [
    "df = df[df['type'] == 1]\n",
    "\n",
    "df.drop('type',axis =1)"
   ],
   "metadata": {
    "collapsed": false,
    "ExecuteTime": {
     "end_time": "2024-06-19T06:32:11.201372Z",
     "start_time": "2024-06-19T06:32:11.168424Z"
    }
   },
   "id": "db1346e69c1f7ae7",
   "execution_count": 4
  },
  {
   "cell_type": "code",
   "outputs": [],
   "source": [
    "from sklearn.model_selection import train_test_split\n",
    "\n",
    "train_df,valid_df = train_test_split(df, test_size=0.3, random_state=42)\n",
    "\n",
    "train_df.to_json('./train.json')\n",
    "valid_df.to_json('./valid.json')"
   ],
   "metadata": {
    "collapsed": false
   },
   "id": "1e6c9767aa0856c8"
  }
 ],
 "metadata": {
  "kernelspec": {
   "display_name": "Python 3",
   "language": "python",
   "name": "python3"
  },
  "language_info": {
   "codemirror_mode": {
    "name": "ipython",
    "version": 2
   },
   "file_extension": ".py",
   "mimetype": "text/x-python",
   "name": "python",
   "nbconvert_exporter": "python",
   "pygments_lexer": "ipython2",
   "version": "2.7.6"
  }
 },
 "nbformat": 4,
 "nbformat_minor": 5
}
